{
 "cells": [
  {
   "cell_type": "code",
   "execution_count": 2,
   "id": "0077d53a",
   "metadata": {},
   "outputs": [
    {
     "name": "stdout",
     "output_type": "stream",
     "text": [
      "enter the 1st string :kush\n",
      "enter the 2nd string :agra\n",
      "raku shag\n"
     ]
    }
   ],
   "source": [
    "#Write a Python program to get a single string from two given strings, separated by a space and swap the first two characters of each string.\n",
    "\n",
    "def mixing(a,b):\n",
    "    new_a = b[2:] + a[:2]\n",
    "    new_b = a[2:] + b[:2]\n",
    "    return new_a + ' ' +new_b\n",
    "c=str(input(\"enter the 1st string :\"))\n",
    "d=str(input(\"enter the 2nd string :\"))\n",
    "print(mixing(c,d))"
   ]
  },
  {
   "cell_type": "code",
   "execution_count": null,
   "id": "c1213827",
   "metadata": {},
   "outputs": [],
   "source": []
  }
 ],
 "metadata": {
  "kernelspec": {
   "display_name": "Python 3 (ipykernel)",
   "language": "python",
   "name": "python3"
  },
  "language_info": {
   "codemirror_mode": {
    "name": "ipython",
    "version": 3
   },
   "file_extension": ".py",
   "mimetype": "text/x-python",
   "name": "python",
   "nbconvert_exporter": "python",
   "pygments_lexer": "ipython3",
   "version": "3.10.0"
  }
 },
 "nbformat": 4,
 "nbformat_minor": 5
}
