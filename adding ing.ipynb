{
 "cells": [
  {
   "cell_type": "code",
   "execution_count": 6,
   "id": "17fd3d32",
   "metadata": {},
   "outputs": [
    {
     "name": "stdout",
     "output_type": "stream",
     "text": [
      "Enter the String :fly\n",
      "adding\n",
      "flying\n"
     ]
    }
   ],
   "source": [
    "#Write a Python program to add 'ing' at the end of a given string (length should be at least 3). If the given string already ends with 'ing' then add 'ly' instead. If the string length of the given string is less than 3, leave it unchanged.\n",
    "\n",
    "def ing(str):\n",
    "    if len(str)>2:\n",
    "        if str[-2:] in 'ly':\n",
    "            str+='ing'\n",
    "        else:\n",
    "            str+='ly'\n",
    "    return str\n",
    "a=str(input(\"Enter the String :\"))\n",
    "print(\"adding\")\n",
    "print(ing(a))"
   ]
  },
  {
   "cell_type": "code",
   "execution_count": null,
   "id": "110f4dbc",
   "metadata": {},
   "outputs": [],
   "source": []
  },
  {
   "cell_type": "code",
   "execution_count": null,
   "id": "045bff49",
   "metadata": {},
   "outputs": [],
   "source": []
  },
  {
   "cell_type": "code",
   "execution_count": null,
   "id": "7be87bcc",
   "metadata": {},
   "outputs": [],
   "source": []
  }
 ],
 "metadata": {
  "kernelspec": {
   "display_name": "Python 3 (ipykernel)",
   "language": "python",
   "name": "python3"
  },
  "language_info": {
   "codemirror_mode": {
    "name": "ipython",
    "version": 3
   },
   "file_extension": ".py",
   "mimetype": "text/x-python",
   "name": "python",
   "nbconvert_exporter": "python",
   "pygments_lexer": "ipython3",
   "version": "3.10.0"
  }
 },
 "nbformat": 4,
 "nbformat_minor": 5
}
