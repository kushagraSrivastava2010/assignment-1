{
 "cells": [
  {
   "cell_type": "code",
   "execution_count": 3,
   "id": "e1a5b390",
   "metadata": {},
   "outputs": [
    {
     "name": "stdout",
     "output_type": "stream",
     "text": [
      "Enter the string:lyrics are not poor\n",
      "lyrics are good\n"
     ]
    }
   ],
   "source": [
    "#Write a Python program to find the first appearance of the substring 'not' and 'poor' from a given string, if 'not' follows the 'poor', replace the whole 'not'...'poor' substring with 'good'. Return the resulting string. \n",
    "\n",
    "def poor(a):\n",
    "    b= a.find('not')\n",
    "    c= a.find('poor')\n",
    "    \n",
    "    if c>b and b>0 and c>0:\n",
    "        a= a.replace(a[b:(c+4)],'good')\n",
    "        return a\n",
    "    else:\n",
    "        return a\n",
    "s=str(input(\"Enter the string:\"))\n",
    "print(poor(s))"
   ]
  },
  {
   "cell_type": "code",
   "execution_count": null,
   "id": "f0510edf",
   "metadata": {},
   "outputs": [],
   "source": []
  }
 ],
 "metadata": {
  "kernelspec": {
   "display_name": "Python 3 (ipykernel)",
   "language": "python",
   "name": "python3"
  },
  "language_info": {
   "codemirror_mode": {
    "name": "ipython",
    "version": 3
   },
   "file_extension": ".py",
   "mimetype": "text/x-python",
   "name": "python",
   "nbconvert_exporter": "python",
   "pygments_lexer": "ipython3",
   "version": "3.10.0"
  }
 },
 "nbformat": 4,
 "nbformat_minor": 5
}
