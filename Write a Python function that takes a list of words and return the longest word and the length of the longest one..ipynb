{
 "cells": [
  {
   "cell_type": "code",
   "execution_count": 11,
   "id": "499bc629",
   "metadata": {},
   "outputs": [
    {
     "ename": "SyntaxError",
     "evalue": "invalid syntax. Perhaps you forgot a comma? (Temp/ipykernel_12808/3852038399.py, line 7)",
     "output_type": "error",
     "traceback": [
      "\u001b[1;36m  File \u001b[1;32m\"C:\\Users\\HP-PC\\AppData\\Local\\Temp/ipykernel_12808/3852038399.py\"\u001b[1;36m, line \u001b[1;32m7\u001b[0m\n\u001b[1;33m    return word_len[][], word_len[][]\u001b[0m\n\u001b[1;37m                   ^\u001b[0m\n\u001b[1;31mSyntaxError\u001b[0m\u001b[1;31m:\u001b[0m invalid syntax. Perhaps you forgot a comma?\n"
     ]
    }
   ],
   "source": [
    "#Write a Python function that takes a list of words and return the longest word and the length of the longest one.\n",
    "def find_longest_word(words_list):\n",
    "    word_len = []\n",
    "    for n in words_list:\n",
    "        word_len.append((len(n), n))\n",
    "    word_len.sort()\n",
    "    return word_len[][], word_len[][]\n",
    "i=0\n",
    "for i in range(5):\n",
    "    a=str(input(\"enter a word:\"))\n",
    "for i in range(5):\n",
    "    result = find_longest_word(a)\n",
    "\n",
    "print(\"\\nLongest word: \",result[])\n",
    "print(\"Length of the longest word: \",result[])\n"
   ]
  },
  {
   "cell_type": "code",
   "execution_count": null,
   "id": "7aa1694f",
   "metadata": {},
   "outputs": [],
   "source": []
  },
  {
   "cell_type": "code",
   "execution_count": null,
   "id": "717236ba",
   "metadata": {},
   "outputs": [],
   "source": []
  }
 ],
 "metadata": {
  "kernelspec": {
   "display_name": "Python 3 (ipykernel)",
   "language": "python",
   "name": "python3"
  },
  "language_info": {
   "codemirror_mode": {
    "name": "ipython",
    "version": 3
   },
   "file_extension": ".py",
   "mimetype": "text/x-python",
   "name": "python",
   "nbconvert_exporter": "python",
   "pygments_lexer": "ipython3",
   "version": "3.10.0"
  }
 },
 "nbformat": 4,
 "nbformat_minor": 5
}
