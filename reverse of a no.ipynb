{
 "cells": [
  {
   "cell_type": "code",
   "execution_count": 3,
   "id": "eaa25965",
   "metadata": {},
   "outputs": [
    {
     "name": "stdout",
     "output_type": "stream",
     "text": [
      "Enter a Number54789698\n",
      "the Enter no is : 54789698\n",
      "the reverse no is : 89698745"
     ]
    }
   ],
   "source": [
    "#write a program to take a number input from the user and reverse it\n",
    "def rev(s):\n",
    "    c=0\n",
    "    while s>0:\n",
    "        a=s%10\n",
    "        c=(c*10)+a\n",
    "        s=s//10\n",
    "        \n",
    "    return(c)\n",
    "\n",
    "b = int(input(\"Enter a Number\"))\n",
    "print(\"the Enter no is :\",b)\n",
    "print(\"the reverse no is :\",rev(b),end=\"\")"
   ]
  },
  {
   "cell_type": "code",
   "execution_count": null,
   "id": "6497bdaf",
   "metadata": {},
   "outputs": [],
   "source": []
  }
 ],
 "metadata": {
  "kernelspec": {
   "display_name": "Python 3 (ipykernel)",
   "language": "python",
   "name": "python3"
  },
  "language_info": {
   "codemirror_mode": {
    "name": "ipython",
    "version": 3
   },
   "file_extension": ".py",
   "mimetype": "text/x-python",
   "name": "python",
   "nbconvert_exporter": "python",
   "pygments_lexer": "ipython3",
   "version": "3.10.0"
  }
 },
 "nbformat": 4,
 "nbformat_minor": 5
}
