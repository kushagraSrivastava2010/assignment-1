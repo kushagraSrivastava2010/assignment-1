{
 "cells": [
  {
   "cell_type": "code",
   "execution_count": 2,
   "id": "50f89653",
   "metadata": {},
   "outputs": [
    {
     "name": "stdout",
     "output_type": "stream",
     "text": [
      "enter the string:kushagra\n",
      "kura\n"
     ]
    }
   ],
   "source": [
    "#Write a Python program to get a string made of the first 2 and the last 2 chars from a given a string. If the string length is less than 2, return instead of the empty string. \n",
    "\n",
    "def two_ends(s):\n",
    "    if len(s)<2:#string function\n",
    "        return ''\n",
    "    else:\n",
    "        return s[0:2] + s[-2:]\n",
    "a = str(input(\"enter the string:\"))\n",
    "print(two_ends(a))"
   ]
  },
  {
   "cell_type": "code",
   "execution_count": null,
   "id": "835a8b1a",
   "metadata": {},
   "outputs": [],
   "source": []
  }
 ],
 "metadata": {
  "kernelspec": {
   "display_name": "Python 3 (ipykernel)",
   "language": "python",
   "name": "python3"
  },
  "language_info": {
   "codemirror_mode": {
    "name": "ipython",
    "version": 3
   },
   "file_extension": ".py",
   "mimetype": "text/x-python",
   "name": "python",
   "nbconvert_exporter": "python",
   "pygments_lexer": "ipython3",
   "version": "3.10.0"
  }
 },
 "nbformat": 4,
 "nbformat_minor": 5
}
