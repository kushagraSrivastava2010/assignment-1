{
 "cells": [
  {
   "cell_type": "code",
   "execution_count": 6,
   "id": "74ce97f1",
   "metadata": {},
   "outputs": [
    {
     "name": "stdout",
     "output_type": "stream",
     "text": [
      "Enter the String:kushagra\n",
      "The Counting starts....\n",
      "count : 8"
     ]
    }
   ],
   "source": [
    "#Write a Python program to calculate the length of a string\n",
    "\n",
    "def string_length(str):\n",
    "    count=0\n",
    "    for n in str:\n",
    "        count+=1\n",
    "    return(count)\n",
    "\n",
    "a=str(input(\"Enter the String:\"))\n",
    "print(\"The Counting starts....\")\n",
    "print(\"count :\",string_length(a),end=\"\")"
   ]
  },
  {
   "cell_type": "code",
   "execution_count": null,
   "id": "7240748f",
   "metadata": {},
   "outputs": [],
   "source": []
  }
 ],
 "metadata": {
  "kernelspec": {
   "display_name": "Python 3 (ipykernel)",
   "language": "python",
   "name": "python3"
  },
  "language_info": {
   "codemirror_mode": {
    "name": "ipython",
    "version": 3
   },
   "file_extension": ".py",
   "mimetype": "text/x-python",
   "name": "python",
   "nbconvert_exporter": "python",
   "pygments_lexer": "ipython3",
   "version": "3.10.0"
  }
 },
 "nbformat": 4,
 "nbformat_minor": 5
}
