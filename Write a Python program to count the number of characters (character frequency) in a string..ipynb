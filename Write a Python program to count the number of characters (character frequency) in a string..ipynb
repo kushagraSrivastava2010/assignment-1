{
 "cells": [
  {
   "cell_type": "code",
   "execution_count": 2,
   "id": "f086e42d",
   "metadata": {},
   "outputs": [
    {
     "name": "stdout",
     "output_type": "stream",
     "text": [
      "Enter the String:Kushagra.srivastava\n",
      "{'K': 1, 'u': 1, 's': 3, 'h': 1, 'a': 5, 'g': 1, 'r': 2, '.': 1, 'i': 1, 'v': 2, 't': 1}\n"
     ]
    }
   ],
   "source": [
    "#Write a Python program to count the number of characters (character frequency) in a string.\n",
    "def count(str):\n",
    "    dict ={}\n",
    "    for n in str:\n",
    "        keys=dict.keys()\n",
    "        if n in keys:\n",
    "            dict [n]+=1\n",
    "        else:\n",
    "            dict [n]=1\n",
    "    return dict\n",
    "\n",
    "s=str(input(\"Enter the String:\"))\n",
    "print(count(s))"
   ]
  },
  {
   "cell_type": "code",
   "execution_count": null,
   "id": "f324df5d",
   "metadata": {},
   "outputs": [],
   "source": []
  }
 ],
 "metadata": {
  "kernelspec": {
   "display_name": "Python 3 (ipykernel)",
   "language": "python",
   "name": "python3"
  },
  "language_info": {
   "codemirror_mode": {
    "name": "ipython",
    "version": 3
   },
   "file_extension": ".py",
   "mimetype": "text/x-python",
   "name": "python",
   "nbconvert_exporter": "python",
   "pygments_lexer": "ipython3",
   "version": "3.10.0"
  }
 },
 "nbformat": 4,
 "nbformat_minor": 5
}
